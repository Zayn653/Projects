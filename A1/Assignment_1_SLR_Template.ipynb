{
  "cells": [
    {
      "cell_type": "markdown",
      "id": "continent-montana",
      "metadata": {
        "id": "continent-montana"
      },
      "source": [
        "# Assignment 1 - Simple Linear Regression\n",
        "\n",
        "5PAM2024 - Statistical Modelling\n",
        "\n",
        "Write your name, surname, and student ID"
      ]
    },
    {
      "cell_type": "markdown",
      "id": "alternative-township",
      "metadata": {
        "id": "alternative-township"
      },
      "source": [
        "### 1. Simple Linear Regression Analysis"
      ]
    },
    {
      "cell_type": "markdown",
      "id": "05c8edd2",
      "metadata": {
        "id": "05c8edd2"
      },
      "source": [
        "Fit a simple linear regression model to the given data:\n",
        "\n",
        "- Conduct residual analysis and find suitable transformations of data, if needed. You can use all built-in statistical functions (lm(), boxcox(), rstandard(), etc.) to complete this step. (3 marks)  \n",
        "\n",
        "- Use formulas derived in lectures to compute Cook's distances, find (and remove) outliers and bad leverage cases, if there are any. (3 marks)\n",
        "\n",
        "- Briefly explain the regression diagnostics you did and the transformations you made, if any, and evaluate the quality of your regression model. (2 marks)"
      ]
    },
    {
      "cell_type": "code",
      "execution_count": 9,
      "id": "4b614e99-92f3-480f-8101-5b03b5984b7e",
      "metadata": {
        "colab": {
          "base_uri": "https://localhost:8080/",
          "height": 724
        },
        "id": "4b614e99-92f3-480f-8101-5b03b5984b7e",
        "outputId": "dc9b48a8-f030-47ea-8016-a33ac46c5fdf"
      },
      "outputs": [
        {
          "output_type": "display_data",
          "data": {
            "text/html": [
              "<table class=\"dataframe\">\n",
              "<caption>A data.frame: 6 × 3</caption>\n",
              "<thead>\n",
              "\t<tr><th></th><th scope=col>X</th><th scope=col>x</th><th scope=col>y</th></tr>\n",
              "\t<tr><th></th><th scope=col>&lt;int&gt;</th><th scope=col>&lt;dbl&gt;</th><th scope=col>&lt;dbl&gt;</th></tr>\n",
              "</thead>\n",
              "<tbody>\n",
              "\t<tr><th scope=row>1</th><td>1</td><td>120.53</td><td> 74.38</td></tr>\n",
              "\t<tr><th scope=row>2</th><td>2</td><td>226.29</td><td> 96.67</td></tr>\n",
              "\t<tr><th scope=row>3</th><td>3</td><td> 72.13</td><td> 61.20</td></tr>\n",
              "\t<tr><th scope=row>4</th><td>4</td><td>675.72</td><td>166.24</td></tr>\n",
              "\t<tr><th scope=row>5</th><td>5</td><td>606.08</td><td>164.89</td></tr>\n",
              "\t<tr><th scope=row>6</th><td>6</td><td>536.61</td><td>146.69</td></tr>\n",
              "</tbody>\n",
              "</table>\n"
            ],
            "text/markdown": "\nA data.frame: 6 × 3\n\n| <!--/--> | X &lt;int&gt; | x &lt;dbl&gt; | y &lt;dbl&gt; |\n|---|---|---|---|\n| 1 | 1 | 120.53 |  74.38 |\n| 2 | 2 | 226.29 |  96.67 |\n| 3 | 3 |  72.13 |  61.20 |\n| 4 | 4 | 675.72 | 166.24 |\n| 5 | 5 | 606.08 | 164.89 |\n| 6 | 6 | 536.61 | 146.69 |\n\n",
            "text/latex": "A data.frame: 6 × 3\n\\begin{tabular}{r|lll}\n  & X & x & y\\\\\n  & <int> & <dbl> & <dbl>\\\\\n\\hline\n\t1 & 1 & 120.53 &  74.38\\\\\n\t2 & 2 & 226.29 &  96.67\\\\\n\t3 & 3 &  72.13 &  61.20\\\\\n\t4 & 4 & 675.72 & 166.24\\\\\n\t5 & 5 & 606.08 & 164.89\\\\\n\t6 & 6 & 536.61 & 146.69\\\\\n\\end{tabular}\n",
            "text/plain": [
              "  X x      y     \n",
              "1 1 120.53  74.38\n",
              "2 2 226.29  96.67\n",
              "3 3  72.13  61.20\n",
              "4 4 675.72 166.24\n",
              "5 5 606.08 164.89\n",
              "6 6 536.61 146.69"
            ]
          },
          "metadata": {}
        },
        {
          "output_type": "display_data",
          "data": {
            "text/html": [
              "'intercept = 64.56, slope = 0.15'"
            ],
            "text/markdown": "'intercept = 64.56, slope = 0.15'",
            "text/latex": "'intercept = 64.56, slope = 0.15'",
            "text/plain": [
              "[1] \"intercept = 64.56, slope = 0.15\""
            ]
          },
          "metadata": {}
        },
        {
          "output_type": "display_data",
          "data": {
            "text/plain": [
              "Plot with title “Manufacturer data”"
            ],
            "image/png": "[encoded data removed]"
          },
          "metadata": {
            "image/png": {
              "width": 360,
              "height": 420
            }
          }
        }
      ],
      "source": [
        "# write your code here\n",
        "data = read.csv(\"https://raw.githubusercontent.com/uqglmn/sm/refs/heads/main/A1/A1_02.csv\")\n",
        "head(data)\n",
        "\n",
        "x = data$x\n",
        "y = data$y\n",
        "n = length(y)\n",
        "\n",
        "#options(repr.plot.width = 6, repr.plot = 6)\n",
        "#plot(x, y)\n",
        "\n",
        "sxx = sum( (x - mean(x))**2 )\n",
        "sxy = sum( (x - mean(x))*(y - mean(y)) )\n",
        "#sprintf(\"sxx = %.2f, sxy = %.2f\", sxx, sxy)\n",
        "\n",
        "b1hat = sxy/sxx\n",
        "b0hat = mean(y) - b1hat*mean(x)\n",
        "sprintf(\"intercept = %.2f, slope = %.2f\", b0hat, b1hat)\n",
        "\n",
        "plot(x=x, y=y,                     # scatterplot y versus x\n",
        "     main=\"Manufacturer data\",     # set main title (optional)\n",
        "     font.main = 1, cex.main=1,    # title font options (optional)\n",
        "     xlab=\"Run Size\",              # set x-label (optional)\n",
        "     ylab=\"Run Time\"               # set y-label (optional)\n",
        "    )\n",
        "\n",
        "abline(a=b0hat, b=b1hat)"
      ]
    },
    {
      "cell_type": "markdown",
      "id": "hydraulic-nelson",
      "metadata": {
        "id": "hydraulic-nelson"
      },
      "source": [
        "### 2. Analysis of Variance"
      ]
    },
    {
      "cell_type": "markdown",
      "id": "87c50853",
      "metadata": {
        "id": "87c50853"
      },
      "source": [
        "Use formulas derived in lectures to:\n",
        "\n",
        "- Construct analysis of variance table. (2 marks)\n",
        "\n",
        "- Test significance of regression. (1 mark)\n",
        "\n",
        "All necessary quantities must be computed without using any built-in statistical function. Then use built-in statistical functions to verify your results."
      ]
    },
    {
      "cell_type": "code",
      "execution_count": null,
      "id": "e0935936-1557-4b28-a31e-a41618a7c0f2",
      "metadata": {
        "id": "e0935936-1557-4b28-a31e-a41618a7c0f2"
      },
      "outputs": [],
      "source": [
        "# write your code here"
      ]
    },
    {
      "cell_type": "code",
      "execution_count": null,
      "id": "f2c66b2b",
      "metadata": {
        "id": "f2c66b2b",
        "outputId": "3a5224a7-58c2-444a-88da-e9ffc49ba2dd"
      },
      "outputs": [
        {
          "data": {
            "text/html": [
              "<table class=\"dataframe\">\n",
              "<caption>A data.frame: 3 × 4</caption>\n",
              "<thead>\n",
              "\t<tr><th></th><th scope=col>d.o.f.</th><th scope=col>SS</th><th scope=col>MS</th><th scope=col>F</th></tr>\n",
              "\t<tr><th></th><th scope=col>&lt;dbl&gt;</th><th scope=col>&lt;dbl&gt;</th><th scope=col>&lt;dbl&gt;</th><th scope=col>&lt;dbl&gt;</th></tr>\n",
              "</thead>\n",
              "<tbody>\n",
              "\t<tr><th scope=row>Regression</th><td>0</td><td>0</td><td> 0</td><td> 0</td></tr>\n",
              "\t<tr><th scope=row>Residual</th><td>0</td><td>0</td><td> 0</td><td>NA</td></tr>\n",
              "\t<tr><th scope=row>Total</th><td>0</td><td>0</td><td>NA</td><td>NA</td></tr>\n",
              "</tbody>\n",
              "</table>\n"
            ],
            "text/latex": [
              "A data.frame: 3 × 4\n",
              "\\begin{tabular}{r|llll}\n",
              "  & d.o.f. & SS & MS & F\\\\\n",
              "  & <dbl> & <dbl> & <dbl> & <dbl>\\\\\n",
              "\\hline\n",
              "\tRegression & 0 & 0 &  0 &  0\\\\\n",
              "\tResidual & 0 & 0 &  0 & NA\\\\\n",
              "\tTotal & 0 & 0 & NA & NA\\\\\n",
              "\\end{tabular}\n"
            ],
            "text/markdown": [
              "\n",
              "A data.frame: 3 × 4\n",
              "\n",
              "| <!--/--> | d.o.f. &lt;dbl&gt; | SS &lt;dbl&gt; | MS &lt;dbl&gt; | F &lt;dbl&gt; |\n",
              "|---|---|---|---|---|\n",
              "| Regression | 0 | 0 |  0 |  0 |\n",
              "| Residual | 0 | 0 |  0 | NA |\n",
              "| Total | 0 | 0 | NA | NA |\n",
              "\n"
            ],
            "text/plain": [
              "           d.o.f. SS MS F \n",
              "Regression 0      0   0  0\n",
              "Residual   0      0   0 NA\n",
              "Total      0      0  NA NA"
            ]
          },
          "metadata": {},
          "output_type": "display_data"
        }
      ],
      "source": [
        "# table formatting example\n",
        "\n",
        "# replace numbers with your variables: SSR, SSE, etc.\n",
        "table.anova = data.frame(row.names=c(\"Regression\",\"Residual\",\"Total\"),\n",
        "                         dof=c(0,0,0),\n",
        "                         SS=c(0,0,0),\n",
        "                         MS=c(0,0,NA),\n",
        "                         F=c(0,NA,NA)\n",
        "                         )\n",
        "\n",
        "# column names\n",
        "names(table.anova) = c(\"d.o.f.\", \"SS\", \"MS\", \"F\")\n",
        "\n",
        "# round numerical values\n",
        "round(table.anova,3)"
      ]
    },
    {
      "cell_type": "markdown",
      "id": "worse-heritage",
      "metadata": {
        "id": "worse-heritage"
      },
      "source": [
        "### 3. Confidence intervals and prediction"
      ]
    },
    {
      "cell_type": "markdown",
      "id": "af8446e2",
      "metadata": {
        "id": "af8446e2"
      },
      "source": [
        "Let XY be the last two digits of your student ID. Use formulas derived in lectures to find:\n",
        "\n",
        "- 9X% confidence interval for the slope. (1 marks)\n",
        "\n",
        "- 9Y% confidence interval for the intercept. (1 mark)\n",
        "\n",
        "- The mean response at the XY-th percentile of predictor. (1 mark)\n",
        "\n"
      ]
    },
    {
      "cell_type": "code",
      "execution_count": null,
      "id": "9412e3a7-80a6-4e77-aef8-fc0200eb0bc3",
      "metadata": {
        "id": "9412e3a7-80a6-4e77-aef8-fc0200eb0bc3"
      },
      "outputs": [],
      "source": [
        "# write your code here"
      ]
    },
    {
      "cell_type": "markdown",
      "id": "262ec331-871e-4adb-a144-3b5b50f03a4a",
      "metadata": {
        "id": "262ec331-871e-4adb-a144-3b5b50f03a4a"
      },
      "source": [
        "### 4. Plots"
      ]
    },
    {
      "cell_type": "markdown",
      "id": "198818aa-c0d2-42c3-b6a6-e342775ad2e8",
      "metadata": {
        "id": "198818aa-c0d2-42c3-b6a6-e342775ad2e8"
      },
      "source": [
        "Produce a scatter plot of the data. Then draw the fitted regression line (1 mark) and\n",
        "\n",
        "- 9X% confidence interval for the mean response for all x-range. (1 mark)\n",
        "\n",
        "- 9Y% prediction interval for new observations for all x-range. (1 mark)\n",
        "\n",
        "- Indicate on the plot (with a big red dot) the mean response (at the XY-th percentile of predictor) you found in the previous part. (1 mark)\n",
        "\n",
        "Your plot should look similar to the one below. All necessary quantities must be computed without using any built-in statistical function.\n",
        "\n",
        "<img align=\"left\" width=\"350\" height=\"350\" src=\"https://github.com/uqglmn/sm/blob/3c5d0d8b6dec7951c88479937a5d5ff6f52eab3d/A1/cpi.png?raw=true\">"
      ]
    },
    {
      "cell_type": "code",
      "execution_count": null,
      "id": "fa3f2c70-d56b-47f6-b87d-98e7ead3ee99",
      "metadata": {
        "id": "fa3f2c70-d56b-47f6-b87d-98e7ead3ee99"
      },
      "outputs": [],
      "source": [
        "# write your code here"
      ]
    },
    {
      "cell_type": "code",
      "execution_count": null,
      "id": "839a649f",
      "metadata": {
        "id": "839a649f",
        "outputId": "792ad1ba-aa03-45d8-dc2c-ee9633cda731"
      },
      "outputs": [
        {
          "data": {
            "image/png": "[encoded data removed]",
            "text/plain": [
              "plot without title"
            ]
          },
          "metadata": {
            "image/png": {
              "height": 300,
              "width": 300
            }
          },
          "output_type": "display_data"
        }
      ],
      "source": [
        "# curve plotting example\n",
        "\n",
        "x  = c(1:5)\n",
        "y  = x^2\n",
        "y1 = y - 1\n",
        "y2 = y + 1\n",
        "\n",
        "options(repr.plot.width=5, repr.plot.height=5)\n",
        "plot(x, y)\n",
        "lines(x, y,  col=3)\n",
        "lines(x, y1, col=2)\n",
        "lines(x, y2, col=2)\n",
        "points(3.5, 12.5, pch=19, col=\"red\")"
      ]
    },
    {
      "cell_type": "markdown",
      "id": "narrow-contamination",
      "metadata": {
        "id": "narrow-contamination"
      },
      "source": [
        "### Memo"
      ]
    },
    {
      "cell_type": "markdown",
      "id": "suspended-disposition",
      "metadata": {
        "id": "suspended-disposition"
      },
      "source": [
        "- Don't forget to verify your work. Restart the kernel and re-run the whole notebook.\n",
        "- Make a pdf copy of this notebook and submit together with the notebook.\n",
        "- 10% of marks are allocated for the overall quality of your work."
      ]
    },
    {
      "cell_type": "markdown",
      "id": "2795f6b2",
      "metadata": {
        "id": "2795f6b2"
      },
      "source": [
        "---"
      ]
    }
  ],
  "metadata": {
    "kernelspec": {
      "display_name": "R",
      "language": "R",
      "name": "ir"
    },
    "language_info": {
      "codemirror_mode": "r",
      "file_extension": ".r",
      "mimetype": "text/x-r-source",
      "name": "R",
      "pygments_lexer": "r",
      "version": "4.3.1"
    },
    "colab": {
      "provenance": []
    }
  },
  "nbformat": 4,
  "nbformat_minor": 5
}