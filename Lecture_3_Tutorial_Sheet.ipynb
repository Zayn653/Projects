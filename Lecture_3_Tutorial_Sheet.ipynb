{
  "cells": [
    {
      "cell_type": "markdown",
      "metadata": {
        "id": "-2pwVvSU_l4X"
      },
      "source": [
        "## Statistical Modelling. Lecture 3 Tutorial Sheet\n",
        "Further inference and significance of regression"
      ]
    },
    {
      "cell_type": "markdown",
      "metadata": {
        "id": "KLFUNGSK_l4Y"
      },
      "source": [
        "---"
      ]
    },
    {
      "cell_type": "markdown",
      "metadata": {
        "id": "Gs_ukyek_l4Y"
      },
      "source": [
        "### Exercise 1\n",
        "The manager of the purchasing department of a large company would like to\n",
        "develop a regression model to predict the average amount of time it takes to\n",
        "process a given number of invoices. Over a 30-day period, data are collected on\n",
        "the number of invoices processed and the total time taken (in hours). The data is given in the file [https://raw.githubusercontent.com/uqglmn/sm/main/invoices.csv](https://raw.githubusercontent.com/uqglmn/sm/main/invoices.csv)"
      ]
    },
    {
      "cell_type": "markdown",
      "metadata": {
        "id": "7HbqG5IP_l4Y"
      },
      "source": [
        "**1.1.** Read the data from the file and inspect the result. Then create two vectors, $x$ and $y$, for predictor (Invoices) and response (Time) variables."
      ]
    },
    {
      "cell_type": "code",
      "execution_count": 1,
      "metadata": {
        "colab": {
          "base_uri": "https://localhost:8080/",
          "height": 286
        },
        "id": "FQ21XMWD_l4Z",
        "outputId": "892f4f6b-6d3e-4440-9c44-cb7fbd9651ca"
      },
      "outputs": [
        {
          "output_type": "display_data",
          "data": {
            "text/html": [
              "<table class=\"dataframe\">\n",
              "<caption>A data.frame: 6 × 2</caption>\n",
              "<thead>\n",
              "\t<tr><th></th><th scope=col>Invoices</th><th scope=col>Time</th></tr>\n",
              "\t<tr><th></th><th scope=col>&lt;int&gt;</th><th scope=col>&lt;dbl&gt;</th></tr>\n",
              "</thead>\n",
              "<tbody>\n",
              "\t<tr><th scope=row>1</th><td>149</td><td>2.1</td></tr>\n",
              "\t<tr><th scope=row>2</th><td> 60</td><td>1.8</td></tr>\n",
              "\t<tr><th scope=row>3</th><td>188</td><td>2.3</td></tr>\n",
              "\t<tr><th scope=row>4</th><td> 23</td><td>0.8</td></tr>\n",
              "\t<tr><th scope=row>5</th><td>201</td><td>2.7</td></tr>\n",
              "\t<tr><th scope=row>6</th><td> 58</td><td>1.0</td></tr>\n",
              "</tbody>\n",
              "</table>\n"
            ],
            "text/markdown": "\nA data.frame: 6 × 2\n\n| <!--/--> | Invoices &lt;int&gt; | Time &lt;dbl&gt; |\n|---|---|---|\n| 1 | 149 | 2.1 |\n| 2 |  60 | 1.8 |\n| 3 | 188 | 2.3 |\n| 4 |  23 | 0.8 |\n| 5 | 201 | 2.7 |\n| 6 |  58 | 1.0 |\n\n",
            "text/latex": "A data.frame: 6 × 2\n\\begin{tabular}{r|ll}\n  & Invoices & Time\\\\\n  & <int> & <dbl>\\\\\n\\hline\n\t1 & 149 & 2.1\\\\\n\t2 &  60 & 1.8\\\\\n\t3 & 188 & 2.3\\\\\n\t4 &  23 & 0.8\\\\\n\t5 & 201 & 2.7\\\\\n\t6 &  58 & 1.0\\\\\n\\end{tabular}\n",
            "text/plain": [
              "  Invoices Time\n",
              "1 149      2.1 \n",
              "2  60      1.8 \n",
              "3 188      2.3 \n",
              "4  23      0.8 \n",
              "5 201      2.7 \n",
              "6  58      1.0 "
            ]
          },
          "metadata": {}
        }
      ],
      "source": [
        "data = read.csv(\"https://raw.githubusercontent.com/uqglmn/sm/main/invoices.csv\", row.names=\"Day\")  # read data into a dataframe\n",
        "head(data)  # inspect dataframe"
      ]
    },
    {
      "cell_type": "markdown",
      "metadata": {
        "id": "N0JMV9aC_l4Z"
      },
      "source": [
        "**1.2.** Fit a simple linear regression model to the data. Then draw a scatter plot of the data and the fitted regression line. You will need to use the following formulas:\n",
        "$$\\hat\\beta_1 = \\frac{s_{xy}}{s_{xx}} , \\qquad \\hat\\beta_0 = \\bar y - \\hat\\beta_1 \\bar x$$\n",
        "where\n",
        "$$ s_{xx} = \\sum_{i=1}^n (x_i - \\bar x)^2 , \\qquad s_{xy} = \\sum_{i=1}^n (x_i - \\bar x)(y_i - \\bar y) $$"
      ]
    },
    {
      "cell_type": "code",
      "execution_count": 2,
      "metadata": {
        "id": "Xl6J5_tD_l4Z"
      },
      "outputs": [],
      "source": [
        "# Write your solution here\n",
        "x = data$Invoices\n",
        "y = data$Time\n",
        "n = length(y)\n",
        "sxx = sum( (x - mean(x))**2)\n",
        "sxy = sum( (x - mean(x)) * (y - mean(y)))\n",
        "b1hat = sxy/sxx\n",
        "b0hat = mean(y) - (b1hat * mean(x))\n",
        "yhat = b0hat + b1hat * x\n",
        "\n"
      ]
    },
    {
      "cell_type": "markdown",
      "metadata": {
        "id": "yse8yqJO_l4Z"
      },
      "source": [
        "**1.3.** Find the 95% confidence interval for the start-up time, i.e., $\\beta_0$. You will need to use the following formulas:\n",
        "\n",
        "$$\n",
        "{\\rm CI(\\beta_0)} = \\big[ \\hat\\beta_0 - t_{\\alpha/2,\\, n-2}\\cdot {\\rm se}(\\hat\\beta_0), \\hat\\beta_0 + t_{\\alpha/2,\\, n-2}\\cdot {\\rm se}(\\hat\\beta_0) \\big]\n",
        "$$\n",
        "where\n",
        "$$\n",
        "{\\rm se}(\\hat\\beta_0) = \\sqrt{ \\hat\\sigma^2( 1/n+\\bar x^2/s_{xx})} ,\\qquad \\hat\\sigma^2 = \\frac{1}{n-2}\\sum_{i=1}^n (y_i - \\hat y_i)^2.\n",
        "$$\n",
        "\n",
        "Use ``qt(1-0.05/2, n-2)`` to get the critical t-value, $t_{\\alpha/2,\\, n-2}$."
      ]
    },
    {
      "cell_type": "code",
      "execution_count": 7,
      "metadata": {
        "colab": {
          "base_uri": "https://localhost:8080/"
        },
        "id": "xjotaaPz_l4a",
        "outputId": "f621abe7-be46-4224-8fe1-91a0d203716f"
      },
      "outputs": [
        {
          "output_type": "stream",
          "name": "stdout",
          "text": [
            "[1] 0.3912496\n",
            "[1] 0.8921701\n"
          ]
        }
      ],
      "source": [
        "# Write your solution here\n",
        "sigma2hat = (1/(n-2))*(sum((y - yhat)**2))\n",
        "seb0hat = sqrt(sigma2hat*(1/(n) + (mean(x)**2) / sxx))\n",
        "ctv = qt(1 - 0.05/2, (n-2))\n",
        "cib0min = b0hat - ctv * seb0hat\n",
        "cib0max = b0hat + ctv * seb0hat\n",
        "print(cib0min)\n",
        "print(cib0max)"
      ]
    },
    {
      "cell_type": "markdown",
      "metadata": {
        "id": "Tf58XB5p_l4a"
      },
      "source": [
        "**1.4.** Find a point estimate and the 95% prediction interval for the time taken to process 130 invoices. You will need to use the following formulas:\n",
        "\n",
        "$$\n",
        "{\\rm PI}(y_0) = \\big[ \\hat y_0 - t_{\\alpha/2,\\, n-2}\\cdot {\\rm se}(\\hat y_0), \\hat y_0 + t_{\\alpha/2,\\, n-2}\\cdot {\\rm se}(\\hat y_0) \\big]\n",
        "$$\n",
        "\n",
        "where $\\hat y_0 = \\hat\\beta_0 + \\hat\\beta_1 x_0$ is the predicted value at $x_0$ and\n",
        "\n",
        "$$\n",
        "{\\rm se}(\\hat y_0) = \\sqrt{\\hat\\sigma^2(1 + 1/n + (x_0 - \\bar x)^2 / s_{xx})}\n",
        "$$"
      ]
    },
    {
      "cell_type": "code",
      "execution_count": 17,
      "metadata": {
        "colab": {
          "base_uri": "https://localhost:8080/",
          "height": 34
        },
        "id": "NKw-ZvWW_l4a",
        "outputId": "54a8da17-5ff4-44ff-93e9-21702136ced9"
      },
      "outputs": [
        {
          "output_type": "display_data",
          "data": {
            "text/html": [
              "<style>\n",
              ".list-inline {list-style: none; margin:0; padding: 0}\n",
              ".list-inline>li {display: inline-block}\n",
              ".list-inline>li:not(:last-child)::after {content: \"\\00b7\"; padding: 0 .5ex}\n",
              "</style>\n",
              "<ol class=list-inline><li>1.423</li><li>2.796</li></ol>\n"
            ],
            "text/markdown": "1. 1.423\n2. 2.796\n\n\n",
            "text/latex": "\\begin{enumerate*}\n\\item 1.423\n\\item 2.796\n\\end{enumerate*}\n",
            "text/plain": [
              "[1] 1.423 2.796"
            ]
          },
          "metadata": {}
        }
      ],
      "source": [
        "# Write your solution here\n",
        "x0 = 130\n",
        "y0hat = b0hat + b1hat * x0\n",
        "seyhat = sqrt( sigma2hat*((1+(1/n)) + ((x0 - mean(x))**2)/sxx ))\n",
        "piy0min = y0hat - (ctv * seyhat)\n",
        "piy0max = y0hat + (ctv * seyhat)\n",
        "round(c(piy0min, piy0max), 3)\n"
      ]
    },
    {
      "cell_type": "markdown",
      "metadata": {
        "id": "017Per_9_l4a"
      },
      "source": [
        "**1.5.** Plot the data, the fitted model, and indicate the point estimate and the prediction interval you found above.\n",
        "\n",
        "- Use [points()](https://stat.ethz.ch/R-manual/R-devel/library/graphics/html/points.html) to draw a point at the specified coordinates.\n",
        "    - Code snippet: ``points(x, y, pch=19, col=\"red\")``\n",
        "- Use [segments()](https://stat.ethz.ch/R-manual/R-devel/library/graphics/html/segments.html) to draw a vertical line segment in up and down direction from the epoint. The length of the segment should equal the PI at the estimated point.\n",
        "    - Code snippet: ``segments(x1, y1, x2, y2, col=\"red\", lend='butt')``\n",
        "- Use [legend()](https://stat.ethz.ch/R-manual/R-devel/library/graphics/html/legend.html) to draw a legend.\n",
        "    -  Code snippet: ``legend(x, y, legend=c(\"95% PI for 130 Incoives\"), col=\"red\", lty=1, box.lty=0)``\n",
        "\n",
        "You should obtain the plot shown below.\n",
        "\n",
        "<img src=\"https://raw.githubusercontent.com/uqglmn/sm/main/slr/L3.png\" alt=\"Plot\" width=\"400\"/>"
      ]
    },
    {
      "cell_type": "code",
      "execution_count": 28,
      "metadata": {
        "colab": {
          "base_uri": "https://localhost:8080/",
          "height": 437
        },
        "id": "NVY4wlGs_l4a",
        "outputId": "92f0e341-0531-4cf3-df85-11ae6ede8575"
      },
      "outputs": [
        {
          "output_type": "display_data",
          "data": {
            "text/plain": [
              "plot without title"
            ],
            "image/png": "[encoded data removed]"
          },
          "metadata": {
            "image/png": {
              "width": 420,
              "height": 420
            }
          }
        }
      ],
      "source": [
        "# write your solution here\n",
        "plot(x = x, y = y,\n",
        "     )\n",
        "abline(a = b0hat, b = b1hat)\n",
        "points(x0, y0hat, col = \"red\", pch = 20)\n",
        "segments()"
      ]
    },
    {
      "cell_type": "markdown",
      "metadata": {
        "id": "i8WSbkn8_l4a"
      },
      "source": [
        "#### Built-in statistical functions\n",
        "\n",
        "Verify your results using built-in statistical functions."
      ]
    },
    {
      "cell_type": "code",
      "execution_count": null,
      "metadata": {
        "id": "F_o9hWOA_l4a"
      },
      "outputs": [],
      "source": [
        "# fit a simple linear regression model. name your model \"model1\"\n",
        "# write your solution here\n",
        "\n"
      ]
    },
    {
      "cell_type": "code",
      "execution_count": null,
      "metadata": {
        "id": "ovrcPPZX_l4a"
      },
      "outputs": [],
      "source": [
        "# 95% confidence interval\n",
        "# write your solution here\n",
        "\n",
        "\n"
      ]
    },
    {
      "cell_type": "code",
      "execution_count": null,
      "metadata": {
        "id": "m8JCBy6Q_l4a",
        "outputId": "b573984f-6999-4fd1-dda0-31d2dc6a84da"
      },
      "outputs": [
        {
          "data": {
            "text/html": [
              "<table class=\"dataframe\">\n",
              "<caption>A matrix: 1 × 3 of type dbl</caption>\n",
              "<thead>\n",
              "\t<tr><th></th><th scope=col>fit</th><th scope=col>lwr</th><th scope=col>upr</th></tr>\n",
              "</thead>\n",
              "<tbody>\n",
              "\t<tr><th scope=row>1</th><td>2.11</td><td>1.423</td><td>2.796</td></tr>\n",
              "</tbody>\n",
              "</table>\n"
            ],
            "text/latex": [
              "A matrix: 1 × 3 of type dbl\n",
              "\\begin{tabular}{r|lll}\n",
              "  & fit & lwr & upr\\\\\n",
              "\\hline\n",
              "\t1 & 2.11 & 1.423 & 2.796\\\\\n",
              "\\end{tabular}\n"
            ],
            "text/markdown": [
              "\n",
              "A matrix: 1 × 3 of type dbl\n",
              "\n",
              "| <!--/--> | fit | lwr | upr |\n",
              "|---|---|---|---|\n",
              "| 1 | 2.11 | 1.423 | 2.796 |\n",
              "\n"
            ],
            "text/plain": [
              "  fit  lwr   upr  \n",
              "1 2.11 1.423 2.796"
            ]
          },
          "metadata": {},
          "output_type": "display_data"
        }
      ],
      "source": [
        "# 95% prediction interval\n",
        "# your results in 1.4 must coincide with the ones below\n",
        "newdata = data.frame(Invoices = 130)\n",
        "round(predict(model1, newdata = newdata, interval = \"prediction\", level=0.95),3)"
      ]
    },
    {
      "cell_type": "markdown",
      "metadata": {
        "id": "bfRxGhBF_l4a"
      },
      "source": [
        "---"
      ]
    },
    {
      "cell_type": "markdown",
      "metadata": {
        "id": "ZKaU3mEI_l4b"
      },
      "source": [
        "### Exercise 2\n",
        "To calibrate an instrument which measures the lactic acid concentration in\n",
        "blood, an investigator used twenty samples of known concentration ($x$) and\n",
        "then obtained the concentration as measured on the instrument ($y$). The data is given below."
      ]
    },
    {
      "cell_type": "code",
      "execution_count": null,
      "metadata": {
        "id": "0akk6jbv_l4b"
      },
      "outputs": [],
      "source": [
        "x = c(1,1,1,1,3,3,3,3,5,5,5,5,10,10,10,10,15,15,15,15)\n",
        "y = c(1.1,0.7,1.8,0.4,3.0,2.4,4.9,4.4,4.5,7.3,8.2,6.2,12.0,13.1,12.6,13.2,18.7,19.7,17.4,17.1)"
      ]
    },
    {
      "cell_type": "markdown",
      "metadata": {
        "id": "XIEd9klS_l4b"
      },
      "source": [
        "**2.1.** Fit a simple linear regression model to the data. Then draw a scatter plot of the data and the fitted regression line."
      ]
    },
    {
      "cell_type": "code",
      "execution_count": null,
      "metadata": {
        "id": "U8f_nx6D_l4b"
      },
      "outputs": [],
      "source": [
        "# Write your solution here\n",
        "\n"
      ]
    },
    {
      "cell_type": "markdown",
      "metadata": {
        "id": "7vTfXGi1_l4b"
      },
      "source": [
        "**2.2.** Compute the total sum of squares, $SS_T$, the regression sum of squares, $SS_R$, and the residual sum of squares, $SS_E$:\n",
        "\n",
        "$$\n",
        "SS_T = \\sum_{i=1}^n(y_i-\\bar y)^2 \\qquad\n",
        "SS_R = \\sum_{i=1}^n(\\hat y_i-\\bar y)^2 \\qquad\n",
        "SS_E = \\sum_{i=1}^n(y_i-\\hat y_i)^2\n",
        "$$\n",
        "\n",
        "where $\\hat y_i = \\hat\\beta_0 + \\hat\\beta_1 x_i$ are fitted values. Then verify the analysis of variance identity\n",
        "\n",
        "$$\n",
        "SS_T = SS_R + SS_E\n",
        "$$\n",
        "\n",
        "Hint. Use function ``all.equal()`` to compare floating point numerals, if needed."
      ]
    },
    {
      "cell_type": "code",
      "execution_count": null,
      "metadata": {
        "id": "6N9YDFqr_l4b"
      },
      "outputs": [],
      "source": [
        "# Write your solution here\n",
        "\n"
      ]
    },
    {
      "cell_type": "markdown",
      "metadata": {
        "id": "ijS6BN8P_l4b"
      },
      "source": [
        "**2.3.** Construct the analysis of variance table and test the signifiance of regression assuming $\\alpha=5\\%$. The critical $F$-value $F_{1-\\alpha, 1, n-1}$ can be obtained using ``qf(1-0.05, 1, n-1)``. You need to fill-in the table below.\n",
        "\n",
        "| Source of Variation |  d.o.f. |   SS   |   MS   |   F   |\n",
        "|:--------------------|--------:|-------:|-------:|------:|\n",
        "| Regression          | $\\nu_R$ | $SS_R$ | $MS_R$ | $F$   |\n",
        "| Residual            | $\\nu_E$ | $SS_E$ | $MS_E$ |       |\n",
        "| Total               | $\\nu_T$ | $SS_T$ |        |       |\n",
        "\n",
        "**Question.** Is the regression significant?"
      ]
    },
    {
      "cell_type": "code",
      "execution_count": null,
      "metadata": {
        "id": "QMAbzC1L_l4b"
      },
      "outputs": [],
      "source": [
        "# Write your solution here\n",
        "\n"
      ]
    },
    {
      "cell_type": "markdown",
      "metadata": {
        "id": "-wZxk56t_l4b"
      },
      "source": [
        "**2.6.** Compute the coefficient of determination\n",
        "$$\n",
        "R^2 = 1 - \\frac{SS_E}{SS_T}\n",
        "$$\n",
        "\n",
        "**Question.** What percentage of the total variablility of measured concentration is accounted for by the linear relationship with known concentration?"
      ]
    },
    {
      "cell_type": "code",
      "execution_count": null,
      "metadata": {
        "id": "vD1jD1oo_l4b"
      },
      "outputs": [],
      "source": [
        "# Write your solution here\n",
        "\n"
      ]
    },
    {
      "cell_type": "markdown",
      "metadata": {
        "id": "0jXtSghX_l4b"
      },
      "source": [
        "#### Built-in statistical functions\n",
        "\n",
        "Verify your results using built-in statistical functions."
      ]
    },
    {
      "cell_type": "code",
      "execution_count": null,
      "metadata": {
        "id": "cuY5FmD3_l4b"
      },
      "outputs": [],
      "source": [
        "# fit a simple linear regression model and display the summary table\n",
        "# Write your solution here\n",
        "\n"
      ]
    },
    {
      "cell_type": "code",
      "execution_count": null,
      "metadata": {
        "id": "KOGrGlMg_l4b"
      },
      "outputs": [],
      "source": [
        "# analysis of variance table\n",
        "# Write your solution here\n",
        "\n"
      ]
    },
    {
      "cell_type": "markdown",
      "metadata": {
        "id": "ZruGRXDO_l4b"
      },
      "source": [
        "---"
      ]
    },
    {
      "cell_type": "markdown",
      "metadata": {
        "id": "1LwUaaW5_l4b"
      },
      "source": [
        "### Exercise 3\n",
        "The file [https://raw.githubusercontent.com/uqglmn/sm/main/gasoline.csv](https://raw.githubusercontent.com/uqglmn/sm/main/gasoline.csv) presents data on the gasoline mileage performance of 32 different\n",
        "automobiles."
      ]
    },
    {
      "cell_type": "markdown",
      "metadata": {
        "id": "Rf2bvGrl_l4b"
      },
      "source": [
        "**3.1.** Fit a simple linear regression model relating gasoline mileage $y$ (miles per gallon) to engine displacement $x$ (cubic inches). Then draw a scatter plot of the data and the fitted regression line."
      ]
    },
    {
      "cell_type": "code",
      "execution_count": null,
      "metadata": {
        "id": "VdZm_Xh2_l4b"
      },
      "outputs": [],
      "source": [
        "# Write your solution here\n",
        "\n"
      ]
    },
    {
      "cell_type": "markdown",
      "metadata": {
        "id": "jiubYyNW_l4b"
      },
      "source": [
        "**3.2.** Construct the analysis of variance table and test for significance of regression assuming $\\alpha=2.5\\%$."
      ]
    },
    {
      "cell_type": "code",
      "execution_count": null,
      "metadata": {
        "id": "PK_QLVnQ_l4b"
      },
      "outputs": [],
      "source": [
        "# Write your solution here\n",
        "\n"
      ]
    },
    {
      "cell_type": "markdown",
      "metadata": {
        "id": "zJFsqe0o_l4b"
      },
      "source": [
        "**3.3.** What percent of the total variability in gasoline mileage is accounted for by the linear relationship with engine displacement?"
      ]
    },
    {
      "cell_type": "code",
      "execution_count": null,
      "metadata": {
        "id": "IxctGRtv_l4b"
      },
      "outputs": [],
      "source": [
        "# Write your solution here\n",
        "\n"
      ]
    },
    {
      "cell_type": "markdown",
      "metadata": {
        "id": "TBzWHogb_l4i"
      },
      "source": [
        "**3.4.** Find a 97.5% CI on the mean gasoline mileage if the engine displacement is 275 cubic inches."
      ]
    },
    {
      "cell_type": "code",
      "execution_count": null,
      "metadata": {
        "id": "x_hP9I8__l4i"
      },
      "outputs": [],
      "source": [
        "# Write your solution here\n",
        "\n"
      ]
    },
    {
      "cell_type": "markdown",
      "metadata": {
        "id": "Q4Wz-qt2_l4i"
      },
      "source": [
        "**3.5.** Suppose that we wish to predict the gasoline mileage obtained from a car with a 275 cubic inches engine. Give a point estimate of mileage. Find a 97.5% prediction interval on the mileage."
      ]
    },
    {
      "cell_type": "code",
      "execution_count": null,
      "metadata": {
        "id": "VB6styS-_l4i"
      },
      "outputs": [],
      "source": [
        "# Write your solution here\n",
        "\n"
      ]
    },
    {
      "cell_type": "markdown",
      "metadata": {
        "id": "hyxVZ41z_l4i"
      },
      "source": [
        "**3.6.** Compare the two intervals obtained in parts 3.4. and 3.5. Explain the difference between them. Which one is wider, and why?"
      ]
    },
    {
      "cell_type": "code",
      "execution_count": null,
      "metadata": {
        "id": "hXYjaGWo_l4i"
      },
      "outputs": [],
      "source": [
        "# Write your solution here\n",
        "\n"
      ]
    },
    {
      "cell_type": "markdown",
      "metadata": {
        "id": "pELp3EEI_l4i"
      },
      "source": [
        "#### Built-in statistical functions\n",
        "\n",
        "Verify your results using built-in statistical functions."
      ]
    },
    {
      "cell_type": "code",
      "execution_count": null,
      "metadata": {
        "id": "NYRUfwPl_l4i"
      },
      "outputs": [],
      "source": [
        "# Write your solution here\n",
        "\n"
      ]
    },
    {
      "cell_type": "markdown",
      "metadata": {
        "id": "n-_38MRr_l4i"
      },
      "source": [
        "---"
      ]
    },
    {
      "cell_type": "markdown",
      "metadata": {
        "id": "Ke5i6CkX_l4i"
      },
      "source": [
        "### Exercise 4\n",
        "Consider again the gasoline mileage data in [https://raw.githubusercontent.com/uqglmn/sm/main/gasoline.csv](https://raw.githubusercontent.com/uqglmn/sm/main/gasoline.csv). Repeat parts 3.1, 3.2 and 3.2 of Exercise 3 only this time using vehicle weight $w$ (pounds) as the predictor variable. Then compare your results with the ones you obtained in Exercise 3 and determine which of the two predictors explains better the gasoline mileage?"
      ]
    },
    {
      "cell_type": "code",
      "execution_count": null,
      "metadata": {
        "id": "6v1t25LM_l4i"
      },
      "outputs": [],
      "source": [
        "# Write your solution here\n",
        "\n"
      ]
    },
    {
      "cell_type": "markdown",
      "metadata": {
        "id": "Wy1Tw40O_l4i"
      },
      "source": [
        "---"
      ]
    },
    {
      "cell_type": "markdown",
      "metadata": {
        "id": "5lB2Cu8U_l4i"
      },
      "source": [
        "### Exercise 5\n",
        "Consider the simple linear regression model.\n",
        "\n",
        "1. Show that the regression sum of squares, $SS_R = \\sum_{i=1}^n (\\hat y_i - \\bar y)^2$, can be alternatively written as $SS_R = \\dfrac{s_{xy}^2}{s_{xx}}$.\n",
        "\n",
        "2. Then show that the residual sum of squares, $SS_E = \\sum_{i=1}^n (\\hat y_i - y_i)^2$, can be alternatively written as $SS_E = s_{yy} - \\dfrac{s_{xy}^2}{s_{xx}}$.\n",
        "\n",
        "Here recall that $s_{xy} = \\sum_{i=1}^n (x_i - \\bar x)(y_i - \\bar y)$, and $s_{xx}$, $s_{yy}$ are defined similarly.\n",
        "\n",
        "This exercise should be done by hand.\n",
        "\n",
        "*Hint: You need to use $\\hat y_i = \\hat\\beta_0 + \\hat\\beta_1 x_i$ and the explicit form of $\\hat\\beta_0$ and $\\hat\\beta_1$.*"
      ]
    },
    {
      "cell_type": "markdown",
      "metadata": {
        "id": "hqAZVt_x_l4i"
      },
      "source": [
        "---"
      ]
    },
    {
      "cell_type": "markdown",
      "metadata": {
        "id": "6W0CFTW9_l4j"
      },
      "source": [
        "### Exercise 6\n",
        "Consider the no-intercept model\n",
        "\n",
        "$$\n",
        "y_i = \\beta x_i + \\varepsilon_i \\quad\\text{with}\\quad \\varepsilon_i \\overset{ind}{\\sim} N(0, \\sigma^2)\\quad\\text{for}\\quad i=1,\\dots,n.\n",
        "$$\n",
        "\n",
        "In Exercise 4 of Sheet 2 you had to show that the least squares estimate of $\\beta$ and its sampling distribution are given by\n",
        "\n",
        "$$\n",
        "\\hat\\beta = \\frac{\\sum_{i=1}^n x_i y_i}{\\sum_{i=1}^n x_i^2} \\quad\\text{and}\\quad \\hat\\beta \\sim N\\Big( \\beta, \\sigma^2/\\sum_{i=1}^n x_i^2\\Big)\n",
        "$$\n",
        "\n",
        "1. Derive a formula for a $100(1-\\alpha)\\%$ confidence interval on $\\beta$.\n",
        "\n",
        "2. Show that the sampling distribution of the least squares estimate of the mean response $\\mu_0$ at $x_0$ is given by\n",
        "\n",
        "$$\n",
        "\\hat\\mu_0 \\sim N\\Big(\\mu_0, x_0^2 \\sigma^2/\\sum_{i=1}^n x_i^2 \\Big)\n",
        "$$\n",
        "\n",
        "3. Derive a formula for a $100(1-\\alpha)\\%$ confidence interval on $\\mu_0$.\n",
        "\n",
        "4. Derive a formula for a $100(1-\\alpha)\\%$ prediction interval on a new observation $y_0$ at $x_0$.\n",
        "\n",
        "This exercise should be done by hand.\n",
        "\n",
        "*Hint: Revisit Sections 2.1, 2.2 and 2.3 of the Lecture notes.*"
      ]
    },
    {
      "cell_type": "markdown",
      "metadata": {
        "id": "hTzjlsTI_l4j"
      },
      "source": [
        "---"
      ]
    },
    {
      "cell_type": "markdown",
      "metadata": {
        "id": "EYLNjl6P_l4j"
      },
      "source": [
        "### Exercise 7 (Advanced)\n",
        "Let $Y_1, \\ldots, Y_n$ be independent random variables with a common nonzero mean $\\mu$ and variances $\\sigma^2_1, \\ldots, \\sigma^2_n$. Prove that\n",
        "$$\n",
        "\\sum_{i=1}^n \\frac{(Y_i - \\bar Y)^2}{n(n-1)}\n",
        "$$\n",
        "is an unbiased estimator of ${\\rm Var}(\\bar Y)$.\n",
        "\n",
        "This exercise should be done by hand.\n"
      ]
    },
    {
      "cell_type": "markdown",
      "metadata": {
        "id": "lJPMffKn_l4j"
      },
      "source": [
        "---"
      ]
    }
  ],
  "metadata": {
    "kernelspec": {
      "display_name": "R",
      "language": "R",
      "name": "ir"
    },
    "language_info": {
      "codemirror_mode": "r",
      "file_extension": ".r",
      "mimetype": "text/x-r-source",
      "name": "R",
      "pygments_lexer": "r",
      "version": "4.3.1"
    },
    "colab": {
      "provenance": []
    }
  },
  "nbformat": 4,
  "nbformat_minor": 0
}